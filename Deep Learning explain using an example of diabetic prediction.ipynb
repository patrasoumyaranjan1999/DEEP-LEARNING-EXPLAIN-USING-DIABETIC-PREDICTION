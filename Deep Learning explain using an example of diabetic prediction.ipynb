{
 "cells": [
  {
   "cell_type": "code",
   "execution_count": 1,
   "metadata": {},
   "outputs": [],
   "source": [
    "import numpy as np\n",
    "training_inputs=np.array([[0,1,1],\n",
    "                          [1,1,1],\n",
    "                          [1,0,1],\n",
    "                          [0,1,1]])\n",
    "training_outputs=np.array([[0,1,1,0]]).T"
   ]
  },
  {
   "cell_type": "code",
   "execution_count": 2,
   "metadata": {},
   "outputs": [
    {
     "name": "stdout",
     "output_type": "stream",
     "text": [
      "[[0]\n",
      " [1]\n",
      " [1]\n",
      " [0]]\n"
     ]
    }
   ],
   "source": [
    "print(training_outputs)"
   ]
  },
  {
   "cell_type": "code",
   "execution_count": 3,
   "metadata": {},
   "outputs": [
    {
     "name": "stdout",
     "output_type": "stream",
     "text": [
      "(4, 1)\n"
     ]
    }
   ],
   "source": [
    "print(training_outputs.shape)"
   ]
  },
  {
   "cell_type": "code",
   "execution_count": 4,
   "metadata": {},
   "outputs": [
    {
     "data": {
      "text/plain": [
       "array([[0.76210371],\n",
       "       [0.23436606],\n",
       "       [0.62204253]])"
      ]
     },
     "execution_count": 4,
     "metadata": {},
     "output_type": "execute_result"
    }
   ],
   "source": [
    "#create 3 random weight because we  have 3 features\n",
    "weights=np.random.random((3,1))\n",
    "weights\n"
   ]
  },
  {
   "cell_type": "code",
   "execution_count": 5,
   "metadata": {},
   "outputs": [
    {
     "data": {
      "text/plain": [
       "array([[0.4359949 ],\n",
       "       [0.02592623],\n",
       "       [0.54966248]])"
      ]
     },
     "execution_count": 5,
     "metadata": {},
     "output_type": "execute_result"
    }
   ],
   "source": [
    "#these value comes randomly whenever we run this value wikkk be change so put seed()\n",
    "np.random.seed(2)\n",
    "weights=np.random.random((3,1))\n",
    "weights"
   ]
  },
  {
   "cell_type": "code",
   "execution_count": 6,
   "metadata": {},
   "outputs": [
    {
     "data": {
      "text/plain": [
       "array([[0.57558871],\n",
       "       [1.01158361],\n",
       "       [0.98565738],\n",
       "       [0.57558871]])"
      ]
     },
     "execution_count": 6,
     "metadata": {},
     "output_type": "execute_result"
    }
   ],
   "source": [
    "#multiply weight and training_inputs\n",
    "outputs=np.dot(training_inputs,weights)\n",
    "outputs"
   ]
  },
  {
   "cell_type": "code",
   "execution_count": 7,
   "metadata": {},
   "outputs": [],
   "source": [
    "def sigmoid(X):\n",
    "    return 1/(1+np.exp(-X))"
   ]
  },
  {
   "cell_type": "code",
   "execution_count": 8,
   "metadata": {},
   "outputs": [
    {
     "name": "stdout",
     "output_type": "stream",
     "text": [
      "[[0.64005174]\n",
      " [0.73332995]\n",
      " [0.72822932]\n",
      " [0.64005174]]\n"
     ]
    }
   ],
   "source": [
    "#apply activation function sigmoid\n",
    "final_outputs=sigmoid(outputs)\n",
    "print(final_outputs)"
   ]
  },
  {
   "cell_type": "markdown",
   "metadata": {},
   "source": [
    "# deep learning problem using kears and tensorflow"
   ]
  },
  {
   "cell_type": "code",
   "execution_count": 9,
   "metadata": {},
   "outputs": [
    {
     "name": "stderr",
     "output_type": "stream",
     "text": [
      "Using TensorFlow backend.\n"
     ]
    }
   ],
   "source": [
    "import keras"
   ]
  },
  {
   "cell_type": "code",
   "execution_count": 10,
   "metadata": {},
   "outputs": [],
   "source": [
    "import tensorflow"
   ]
  },
  {
   "cell_type": "markdown",
   "metadata": {},
   "source": [
    "# diabetez prediction using ANN(keras)"
   ]
  },
  {
   "cell_type": "code",
   "execution_count": 11,
   "metadata": {},
   "outputs": [
    {
     "data": {
      "text/html": [
       "<div>\n",
       "<style scoped>\n",
       "    .dataframe tbody tr th:only-of-type {\n",
       "        vertical-align: middle;\n",
       "    }\n",
       "\n",
       "    .dataframe tbody tr th {\n",
       "        vertical-align: top;\n",
       "    }\n",
       "\n",
       "    .dataframe thead th {\n",
       "        text-align: right;\n",
       "    }\n",
       "</style>\n",
       "<table border=\"1\" class=\"dataframe\">\n",
       "  <thead>\n",
       "    <tr style=\"text-align: right;\">\n",
       "      <th></th>\n",
       "      <th>pregnant</th>\n",
       "      <th>glucose</th>\n",
       "      <th>bp</th>\n",
       "      <th>skin</th>\n",
       "      <th>insulin</th>\n",
       "      <th>bmi</th>\n",
       "      <th>pdegree</th>\n",
       "      <th>age</th>\n",
       "      <th>result</th>\n",
       "    </tr>\n",
       "  </thead>\n",
       "  <tbody>\n",
       "    <tr>\n",
       "      <td>0</td>\n",
       "      <td>6</td>\n",
       "      <td>148</td>\n",
       "      <td>72</td>\n",
       "      <td>35</td>\n",
       "      <td>0</td>\n",
       "      <td>33.6</td>\n",
       "      <td>0.627</td>\n",
       "      <td>50</td>\n",
       "      <td>1</td>\n",
       "    </tr>\n",
       "    <tr>\n",
       "      <td>1</td>\n",
       "      <td>1</td>\n",
       "      <td>85</td>\n",
       "      <td>66</td>\n",
       "      <td>29</td>\n",
       "      <td>0</td>\n",
       "      <td>26.6</td>\n",
       "      <td>0.351</td>\n",
       "      <td>31</td>\n",
       "      <td>0</td>\n",
       "    </tr>\n",
       "    <tr>\n",
       "      <td>2</td>\n",
       "      <td>8</td>\n",
       "      <td>183</td>\n",
       "      <td>64</td>\n",
       "      <td>0</td>\n",
       "      <td>0</td>\n",
       "      <td>23.3</td>\n",
       "      <td>0.672</td>\n",
       "      <td>32</td>\n",
       "      <td>1</td>\n",
       "    </tr>\n",
       "    <tr>\n",
       "      <td>3</td>\n",
       "      <td>1</td>\n",
       "      <td>89</td>\n",
       "      <td>66</td>\n",
       "      <td>23</td>\n",
       "      <td>94</td>\n",
       "      <td>28.1</td>\n",
       "      <td>0.167</td>\n",
       "      <td>21</td>\n",
       "      <td>0</td>\n",
       "    </tr>\n",
       "    <tr>\n",
       "      <td>4</td>\n",
       "      <td>0</td>\n",
       "      <td>137</td>\n",
       "      <td>40</td>\n",
       "      <td>35</td>\n",
       "      <td>168</td>\n",
       "      <td>43.1</td>\n",
       "      <td>2.288</td>\n",
       "      <td>33</td>\n",
       "      <td>1</td>\n",
       "    </tr>\n",
       "  </tbody>\n",
       "</table>\n",
       "</div>"
      ],
      "text/plain": [
       "   pregnant  glucose  bp  skin  insulin   bmi  pdegree  age  result\n",
       "0         6      148  72    35        0  33.6    0.627   50       1\n",
       "1         1       85  66    29        0  26.6    0.351   31       0\n",
       "2         8      183  64     0        0  23.3    0.672   32       1\n",
       "3         1       89  66    23       94  28.1    0.167   21       0\n",
       "4         0      137  40    35      168  43.1    2.288   33       1"
      ]
     },
     "execution_count": 11,
     "metadata": {},
     "output_type": "execute_result"
    }
   ],
   "source": [
    "import pandas as pd\n",
    "import matplotlib.pyplot as plt\n",
    "col_names=[\"pregnant\",\"glucose\",\"bp\",\"skin\",\"insulin\",\"bmi\",\"pdegree\",\"age\",\"result\"]\n",
    "pima=pd.read_csv(\"D:/DATA SCIENCE NOTE/pima.csv\",names=col_names)\n",
    "pima.head(5)"
   ]
  },
  {
   "cell_type": "code",
   "execution_count": 12,
   "metadata": {},
   "outputs": [
    {
     "name": "stdout",
     "output_type": "stream",
     "text": [
      "no of people who has no suffer from diabetic dieases 500\n",
      "no of people who has with suffer from diabetic dieases 268\n"
     ]
    }
   ],
   "source": [
    "#display the no of people diabets and without diabetes\n",
    "N,Y=pima[\"result\"].value_counts()\n",
    "print(\"no of people who has no suffer from diabetic dieases\",N)\n",
    "print(\"no of people who has with suffer from diabetic dieases\",Y)"
   ]
  },
  {
   "cell_type": "code",
   "execution_count": 13,
   "metadata": {},
   "outputs": [
    {
     "data": {
      "text/plain": [
       "<matplotlib.axes._subplots.AxesSubplot at 0x155e595c588>"
      ]
     },
     "execution_count": 13,
     "metadata": {},
     "output_type": "execute_result"
    },
    {
     "data": {
      "image/png": "[encoded data removed]",
      "text/plain": [
       "<Figure size 432x288 with 1 Axes>"
      ]
     },
     "metadata": {
      "needs_background": "light"
     },
     "output_type": "display_data"
    }
   ],
   "source": [
    "#data visualization with countplot\n",
    "import seaborn as sns\n",
    "sns.countplot(pima[\"result\"])"
   ]
  },
  {
   "cell_type": "code",
   "execution_count": 14,
   "metadata": {},
   "outputs": [
    {
     "data": {
      "image/png": "[encoded data removed]",
      "text/plain": [
       "<Figure size 432x288 with 1 Axes>"
      ]
     },
     "metadata": {},
     "output_type": "display_data"
    }
   ],
   "source": [
    "%matplotlib inline\n",
    "font={\"fontsize\":15}\n",
    "data=[Y,N]\n",
    "plt.pie(data,labels=[\"diabets\",\"NO diabetes\"],colors=[\"blue\",\"red\"],autopct=\"%0.1f%%\",shadow=True,radius=1.5,textprops=font)\n",
    "plt.show()"
   ]
  },
  {
   "cell_type": "code",
   "execution_count": 15,
   "metadata": {},
   "outputs": [
    {
     "data": {
      "text/plain": [
       "pregnant    0\n",
       "glucose     0\n",
       "bp          0\n",
       "skin        0\n",
       "insulin     0\n",
       "bmi         0\n",
       "pdegree     0\n",
       "age         0\n",
       "result      0\n",
       "dtype: int64"
      ]
     },
     "execution_count": 15,
     "metadata": {},
     "output_type": "execute_result"
    }
   ],
   "source": [
    "#find the misiing values\n",
    "pima.isnull().sum()"
   ]
  },
  {
   "cell_type": "code",
   "execution_count": 16,
   "metadata": {},
   "outputs": [
    {
     "name": "stdout",
     "output_type": "stream",
     "text": [
      "no of rows with zero glucose 5\n",
      "no of rows with zero pregnant 111\n",
      "no of rows with zero bp 35\n",
      "no of rows with zero skin 227\n",
      "no of rows with zero insulin 374\n",
      "no of rows with zero bmi 11\n",
      "no of rows with zero pdegree 0\n",
      "no of rows with zero age 0\n"
     ]
    }
   ],
   "source": [
    "#handle the missing values\n",
    "print(\"no of rows with zero glucose\",len(pima.loc[pima['glucose']==0]))\n",
    "print(\"no of rows with zero pregnant\",len(pima.loc[pima[\"pregnant\"]==0]))\n",
    "print(\"no of rows with zero bp\",len(pima.loc[pima[\"bp\"]==0]))\n",
    "print(\"no of rows with zero skin\",len(pima.loc[pima[\"skin\"]==0]))\n",
    "print(\"no of rows with zero insulin\",len(pima.loc[pima[\"insulin\"]==0]))\n",
    "print(\"no of rows with zero bmi\",len(pima.loc[pima[\"bmi\"]==0]))\n",
    "print(\"no of rows with zero pdegree\",len(pima.loc[pima[\"pdegree\"]==0]))\n",
    "print(\"no of rows with zero age\",len(pima.loc[pima[\"age\"]==0]))"
   ]
  },
  {
   "cell_type": "code",
   "execution_count": 17,
   "metadata": {},
   "outputs": [],
   "source": [
    "#calculate the median value for bmi ,pdegree,insulin,skin,bp,pregnant,glucose\n",
    "median_bmi=pima[\"bmi\"].median()"
   ]
  },
  {
   "cell_type": "code",
   "execution_count": 18,
   "metadata": {},
   "outputs": [],
   "source": [
    "#substitute the bmi column of the dataset where are 0 value arer present\n",
    "pima[\"bmi\"]=pima[\"bmi\"].replace(to_replace=0,value=median_bmi)\n",
    "pima[\"insulin\"]=pima[\"insulin\"].replace(to_replace=0,value=pima[\"insulin\"].median())\n",
    "pima[\"skin\"]=pima[\"skin\"].replace(to_replace=0,value=pima[\"skin\"].median())\n",
    "pima[\"bp\"]=pima[\"bp\"].replace(to_replace=0,value=pima[\"bp\"].median())\n",
    "pima[\"pregnant\"]=pima[\"pregnant\"].replace(to_replace=0,value=pima[\"pregnant\"].median())\n",
    "pima[\"glucose\"]=pima[\"glucose\"].replace(to_replace=0,value=pima[\"glucose\"].median())"
   ]
  },
  {
   "cell_type": "code",
   "execution_count": 20,
   "metadata": {},
   "outputs": [
    {
     "data": {
      "text/html": [
       "<div>\n",
       "<style scoped>\n",
       "    .dataframe tbody tr th:only-of-type {\n",
       "        vertical-align: middle;\n",
       "    }\n",
       "\n",
       "    .dataframe tbody tr th {\n",
       "        vertical-align: top;\n",
       "    }\n",
       "\n",
       "    .dataframe thead th {\n",
       "        text-align: right;\n",
       "    }\n",
       "</style>\n",
       "<table border=\"1\" class=\"dataframe\">\n",
       "  <thead>\n",
       "    <tr style=\"text-align: right;\">\n",
       "      <th></th>\n",
       "      <th>pregnant</th>\n",
       "      <th>glucose</th>\n",
       "      <th>bp</th>\n",
       "      <th>skin</th>\n",
       "      <th>insulin</th>\n",
       "      <th>bmi</th>\n",
       "      <th>pdegree</th>\n",
       "      <th>age</th>\n",
       "    </tr>\n",
       "  </thead>\n",
       "  <tbody>\n",
       "    <tr>\n",
       "      <td>0</td>\n",
       "      <td>6</td>\n",
       "      <td>148</td>\n",
       "      <td>72</td>\n",
       "      <td>35</td>\n",
       "      <td>30.5</td>\n",
       "      <td>33.6</td>\n",
       "      <td>0.627</td>\n",
       "      <td>50</td>\n",
       "    </tr>\n",
       "    <tr>\n",
       "      <td>1</td>\n",
       "      <td>1</td>\n",
       "      <td>85</td>\n",
       "      <td>66</td>\n",
       "      <td>29</td>\n",
       "      <td>30.5</td>\n",
       "      <td>26.6</td>\n",
       "      <td>0.351</td>\n",
       "      <td>31</td>\n",
       "    </tr>\n",
       "    <tr>\n",
       "      <td>2</td>\n",
       "      <td>8</td>\n",
       "      <td>183</td>\n",
       "      <td>64</td>\n",
       "      <td>23</td>\n",
       "      <td>30.5</td>\n",
       "      <td>23.3</td>\n",
       "      <td>0.672</td>\n",
       "      <td>32</td>\n",
       "    </tr>\n",
       "    <tr>\n",
       "      <td>3</td>\n",
       "      <td>1</td>\n",
       "      <td>89</td>\n",
       "      <td>66</td>\n",
       "      <td>23</td>\n",
       "      <td>94.0</td>\n",
       "      <td>28.1</td>\n",
       "      <td>0.167</td>\n",
       "      <td>21</td>\n",
       "    </tr>\n",
       "    <tr>\n",
       "      <td>4</td>\n",
       "      <td>3</td>\n",
       "      <td>137</td>\n",
       "      <td>40</td>\n",
       "      <td>35</td>\n",
       "      <td>168.0</td>\n",
       "      <td>43.1</td>\n",
       "      <td>2.288</td>\n",
       "      <td>33</td>\n",
       "    </tr>\n",
       "    <tr>\n",
       "      <td>...</td>\n",
       "      <td>...</td>\n",
       "      <td>...</td>\n",
       "      <td>...</td>\n",
       "      <td>...</td>\n",
       "      <td>...</td>\n",
       "      <td>...</td>\n",
       "      <td>...</td>\n",
       "      <td>...</td>\n",
       "    </tr>\n",
       "    <tr>\n",
       "      <td>763</td>\n",
       "      <td>10</td>\n",
       "      <td>101</td>\n",
       "      <td>76</td>\n",
       "      <td>48</td>\n",
       "      <td>180.0</td>\n",
       "      <td>32.9</td>\n",
       "      <td>0.171</td>\n",
       "      <td>63</td>\n",
       "    </tr>\n",
       "    <tr>\n",
       "      <td>764</td>\n",
       "      <td>2</td>\n",
       "      <td>122</td>\n",
       "      <td>70</td>\n",
       "      <td>27</td>\n",
       "      <td>30.5</td>\n",
       "      <td>36.8</td>\n",
       "      <td>0.340</td>\n",
       "      <td>27</td>\n",
       "    </tr>\n",
       "    <tr>\n",
       "      <td>765</td>\n",
       "      <td>5</td>\n",
       "      <td>121</td>\n",
       "      <td>72</td>\n",
       "      <td>23</td>\n",
       "      <td>112.0</td>\n",
       "      <td>26.2</td>\n",
       "      <td>0.245</td>\n",
       "      <td>30</td>\n",
       "    </tr>\n",
       "    <tr>\n",
       "      <td>766</td>\n",
       "      <td>1</td>\n",
       "      <td>126</td>\n",
       "      <td>60</td>\n",
       "      <td>23</td>\n",
       "      <td>30.5</td>\n",
       "      <td>30.1</td>\n",
       "      <td>0.349</td>\n",
       "      <td>47</td>\n",
       "    </tr>\n",
       "    <tr>\n",
       "      <td>767</td>\n",
       "      <td>1</td>\n",
       "      <td>93</td>\n",
       "      <td>70</td>\n",
       "      <td>31</td>\n",
       "      <td>30.5</td>\n",
       "      <td>30.4</td>\n",
       "      <td>0.315</td>\n",
       "      <td>23</td>\n",
       "    </tr>\n",
       "  </tbody>\n",
       "</table>\n",
       "<p>768 rows × 8 columns</p>\n",
       "</div>"
      ],
      "text/plain": [
       "     pregnant  glucose  bp  skin  insulin   bmi  pdegree  age\n",
       "0           6      148  72    35     30.5  33.6    0.627   50\n",
       "1           1       85  66    29     30.5  26.6    0.351   31\n",
       "2           8      183  64    23     30.5  23.3    0.672   32\n",
       "3           1       89  66    23     94.0  28.1    0.167   21\n",
       "4           3      137  40    35    168.0  43.1    2.288   33\n",
       "..        ...      ...  ..   ...      ...   ...      ...  ...\n",
       "763        10      101  76    48    180.0  32.9    0.171   63\n",
       "764         2      122  70    27     30.5  36.8    0.340   27\n",
       "765         5      121  72    23    112.0  26.2    0.245   30\n",
       "766         1      126  60    23     30.5  30.1    0.349   47\n",
       "767         1       93  70    31     30.5  30.4    0.315   23\n",
       "\n",
       "[768 rows x 8 columns]"
      ]
     },
     "execution_count": 20,
     "metadata": {},
     "output_type": "execute_result"
    }
   ],
   "source": [
    "#separate the input and output value\n",
    "X=pima.drop(columns=[\"result\"])\n",
    "Y=pima[\"result\"]\n",
    "X\n"
   ]
  },
  {
   "cell_type": "code",
   "execution_count": 21,
   "metadata": {},
   "outputs": [
    {
     "data": {
      "text/plain": [
       "0      1\n",
       "1      0\n",
       "2      1\n",
       "3      0\n",
       "4      1\n",
       "      ..\n",
       "763    0\n",
       "764    0\n",
       "765    0\n",
       "766    1\n",
       "767    0\n",
       "Name: result, Length: 768, dtype: int64"
      ]
     },
     "execution_count": 21,
     "metadata": {},
     "output_type": "execute_result"
    }
   ],
   "source": [
    "Y"
   ]
  },
  {
   "cell_type": "code",
   "execution_count": 25,
   "metadata": {},
   "outputs": [
    {
     "name": "stdout",
     "output_type": "stream",
     "text": [
      "[[ 0.57007018  0.86604475 -0.03198993 ...  0.16724016  0.46849198\n",
      "   1.4259954 ]\n",
      " [-1.08580689 -1.20506583 -0.5283186  ... -0.85155088 -0.36506078\n",
      "  -0.19067191]\n",
      " [ 1.23242101  2.01666174 -0.69376149 ... -1.33183808  0.60439732\n",
      "  -0.10558415]\n",
      " ...\n",
      " [ 0.23889477 -0.02157407 -0.03198993 ... -0.90976751 -0.68519336\n",
      "  -0.27575966]\n",
      " [-1.08580689  0.14279979 -1.02464727 ... -0.34215536 -0.37110101\n",
      "   1.17073215]\n",
      " [-1.08580689 -0.94206766 -0.19743282 ... -0.29849289 -0.47378505\n",
      "  -0.87137393]]\n"
     ]
    }
   ],
   "source": [
    "#standardise  or normalize the data by keeping in between si that min will be 0 and std deviatiobn 1\n",
    "from sklearn.preprocessing import StandardScaler\n",
    "sc=StandardScaler()\n",
    "X=sc.fit_transform(X)\n",
    "\n",
    "print(X)"
   ]
  },
  {
   "cell_type": "code",
   "execution_count": 26,
   "metadata": {},
   "outputs": [],
   "source": [
    "#split the dataset into training and testing the dataset\n",
    "from sklearn.model_selection import train_test_split\n",
    "X_train,X_test,Y_train,Y_test=train_test_split(X,Y,test_size=0.2)"
   ]
  },
  {
   "cell_type": "code",
   "execution_count": 27,
   "metadata": {},
   "outputs": [
    {
     "name": "stdout",
     "output_type": "stream",
     "text": [
      "(614, 8)\n",
      "(154, 8)\n",
      "(614,)\n",
      "(154,)\n"
     ]
    }
   ],
   "source": [
    "print(X_train.shape)\n",
    "print(X_test.shape)\n",
    "print(Y_train.shape)\n",
    "print(Y_test.shape)"
   ]
  },
  {
   "cell_type": "code",
   "execution_count": 39,
   "metadata": {},
   "outputs": [],
   "source": [
    "import keras\n",
    "from keras.models import Sequential\n",
    "from keras.layers import Dense\n",
    "model=Sequential()\n",
    "#now add the input and first hidden layer\n",
    "#we have 8 inputs and let keedp 5 neurons in first hidden layers\n",
    "model.add(Dense(units=5,input_dim=8,activation=\"relu\"))\n"
   ]
  },
  {
   "cell_type": "code",
   "execution_count": 40,
   "metadata": {},
   "outputs": [],
   "source": [
    "#add second hidden leyer\n",
    "#lets say it contain 5 neurons \n",
    "model.add(Dense(units=5,activation=\"relu\"))"
   ]
  },
  {
   "cell_type": "code",
   "execution_count": 41,
   "metadata": {},
   "outputs": [],
   "source": [
    "#add output layer\n",
    "#here the outputs is a binary i.e 0 and 1.hece in this  place we use sigmoid\n",
    "#activation function and it contain one neuron\n",
    "model.add(Dense(units=1,activation=\"sigmoid\"))"
   ]
  },
  {
   "cell_type": "code",
   "execution_count": 43,
   "metadata": {},
   "outputs": [],
   "source": [
    "#compile the keras moodel\n",
    "model.compile(optimizer=\"adam\",loss=\"binary_crossentropy\",metrics=[\"accuracy\"])"
   ]
  },
  {
   "cell_type": "code",
   "execution_count": 44,
   "metadata": {},
   "outputs": [
    {
     "name": "stdout",
     "output_type": "stream",
     "text": [
      "Epoch 1/150\n",
      "614/614 [==============================] - 1s 1ms/step - loss: 0.6428 - accuracy: 0.6450\n",
      "Epoch 2/150\n",
      "614/614 [==============================] - 0s 150us/step - loss: 0.6104 - accuracy: 0.6775\n",
      "Epoch 3/150\n",
      "614/614 [==============================] - 0s 148us/step - loss: 0.5870 - accuracy: 0.6775\n",
      "Epoch 4/150\n",
      "614/614 [==============================] - 0s 141us/step - loss: 0.5680 - accuracy: 0.6808\n",
      "Epoch 5/150\n",
      "614/614 [==============================] - 0s 146us/step - loss: 0.5532 - accuracy: 0.6938\n",
      "Epoch 6/150\n",
      "614/614 [==============================] - 0s 153us/step - loss: 0.5396 - accuracy: 0.7068\n",
      "Epoch 7/150\n",
      "614/614 [==============================] - 0s 142us/step - loss: 0.5272 - accuracy: 0.7199\n",
      "Epoch 8/150\n",
      "614/614 [==============================] - 0s 146us/step - loss: 0.5159 - accuracy: 0.7199\n",
      "Epoch 9/150\n",
      "614/614 [==============================] - 0s 156us/step - loss: 0.5063 - accuracy: 0.7345\n",
      "Epoch 10/150\n",
      "614/614 [==============================] - 0s 146us/step - loss: 0.4969 - accuracy: 0.7524\n",
      "Epoch 11/150\n",
      "614/614 [==============================] - 0s 157us/step - loss: 0.4886 - accuracy: 0.7590\n",
      "Epoch 12/150\n",
      "614/614 [==============================] - 0s 216us/step - loss: 0.4805 - accuracy: 0.7687\n",
      "Epoch 13/150\n",
      "614/614 [==============================] - 0s 165us/step - loss: 0.4741 - accuracy: 0.7687\n",
      "Epoch 14/150\n",
      "614/614 [==============================] - 0s 188us/step - loss: 0.4676 - accuracy: 0.7704\n",
      "Epoch 15/150\n",
      "614/614 [==============================] - 0s 190us/step - loss: 0.4621 - accuracy: 0.7818\n",
      "Epoch 16/150\n",
      "614/614 [==============================] - 0s 210us/step - loss: 0.4582 - accuracy: 0.7850\n",
      "Epoch 17/150\n",
      "614/614 [==============================] - 0s 166us/step - loss: 0.4538 - accuracy: 0.7720\n",
      "Epoch 18/150\n",
      "614/614 [==============================] - 0s 207us/step - loss: 0.4504 - accuracy: 0.7850\n",
      "Epoch 19/150\n",
      "614/614 [==============================] - 0s 248us/step - loss: 0.4461 - accuracy: 0.7932\n",
      "Epoch 20/150\n",
      "614/614 [==============================] - 0s 278us/step - loss: 0.4430 - accuracy: 0.7915\n",
      "Epoch 21/150\n",
      "614/614 [==============================] - 0s 219us/step - loss: 0.4405 - accuracy: 0.7883\n",
      "Epoch 22/150\n",
      "614/614 [==============================] - 0s 226us/step - loss: 0.4384 - accuracy: 0.7915\n",
      "Epoch 23/150\n",
      "614/614 [==============================] - 0s 273us/step - loss: 0.4361 - accuracy: 0.7915\n",
      "Epoch 24/150\n",
      "614/614 [==============================] - 0s 300us/step - loss: 0.4344 - accuracy: 0.7964\n",
      "Epoch 25/150\n",
      "614/614 [==============================] - 0s 235us/step - loss: 0.4328 - accuracy: 0.7948\n",
      "Epoch 26/150\n",
      "614/614 [==============================] - 0s 221us/step - loss: 0.4315 - accuracy: 0.7948\n",
      "Epoch 27/150\n",
      "614/614 [==============================] - 0s 243us/step - loss: 0.4301 - accuracy: 0.7948\n",
      "Epoch 28/150\n",
      "614/614 [==============================] - 0s 236us/step - loss: 0.4284 - accuracy: 0.7964\n",
      "Epoch 29/150\n",
      "614/614 [==============================] - 0s 232us/step - loss: 0.4278 - accuracy: 0.7883\n",
      "Epoch 30/150\n",
      "614/614 [==============================] - 0s 234us/step - loss: 0.4262 - accuracy: 0.7915\n",
      "Epoch 31/150\n",
      "614/614 [==============================] - 0s 325us/step - loss: 0.4251 - accuracy: 0.7899\n",
      "Epoch 32/150\n",
      "614/614 [==============================] - 0s 244us/step - loss: 0.4242 - accuracy: 0.7883\n",
      "Epoch 33/150\n",
      "614/614 [==============================] - 0s 284us/step - loss: 0.4233 - accuracy: 0.7899\n",
      "Epoch 34/150\n",
      "614/614 [==============================] - 0s 376us/step - loss: 0.4223 - accuracy: 0.7883\n",
      "Epoch 35/150\n",
      "614/614 [==============================] - 0s 260us/step - loss: 0.4209 - accuracy: 0.7883\n",
      "Epoch 36/150\n",
      "614/614 [==============================] - 0s 259us/step - loss: 0.4204 - accuracy: 0.7899\n",
      "Epoch 37/150\n",
      "614/614 [==============================] - 0s 270us/step - loss: 0.4195 - accuracy: 0.7899\n",
      "Epoch 38/150\n",
      "614/614 [==============================] - 0s 359us/step - loss: 0.4189 - accuracy: 0.7932\n",
      "Epoch 39/150\n",
      "614/614 [==============================] - 0s 246us/step - loss: 0.4185 - accuracy: 0.7932\n",
      "Epoch 40/150\n",
      "614/614 [==============================] - 0s 326us/step - loss: 0.4175 - accuracy: 0.7915\n",
      "Epoch 41/150\n",
      "614/614 [==============================] - 0s 320us/step - loss: 0.4166 - accuracy: 0.7948\n",
      "Epoch 42/150\n",
      "614/614 [==============================] - 0s 252us/step - loss: 0.4165 - accuracy: 0.7948\n",
      "Epoch 43/150\n",
      "614/614 [==============================] - 0s 308us/step - loss: 0.4154 - accuracy: 0.7915\n",
      "Epoch 44/150\n",
      "614/614 [==============================] - 0s 284us/step - loss: 0.4152 - accuracy: 0.7915\n",
      "Epoch 45/150\n",
      "614/614 [==============================] - 0s 293us/step - loss: 0.4143 - accuracy: 0.7899\n",
      "Epoch 46/150\n",
      "614/614 [==============================] - 0s 269us/step - loss: 0.4140 - accuracy: 0.7932\n",
      "Epoch 47/150\n",
      "614/614 [==============================] - 0s 192us/step - loss: 0.4134 - accuracy: 0.7932\n",
      "Epoch 48/150\n",
      "614/614 [==============================] - 0s 266us/step - loss: 0.4129 - accuracy: 0.79640s - loss: 0.4278 - accuracy: 0.\n",
      "Epoch 49/150\n",
      "614/614 [==============================] - 0s 244us/step - loss: 0.4130 - accuracy: 0.7899\n",
      "Epoch 50/150\n",
      "614/614 [==============================] - 0s 206us/step - loss: 0.4118 - accuracy: 0.7997\n",
      "Epoch 51/150\n",
      "614/614 [==============================] - 0s 225us/step - loss: 0.4114 - accuracy: 0.7932\n",
      "Epoch 52/150\n",
      "614/614 [==============================] - 0s 211us/step - loss: 0.4115 - accuracy: 0.7980\n",
      "Epoch 53/150\n",
      "614/614 [==============================] - 0s 226us/step - loss: 0.4110 - accuracy: 0.7948\n",
      "Epoch 54/150\n",
      "614/614 [==============================] - 0s 232us/step - loss: 0.4106 - accuracy: 0.7980\n",
      "Epoch 55/150\n",
      "614/614 [==============================] - 0s 219us/step - loss: 0.4100 - accuracy: 0.7980\n",
      "Epoch 56/150\n",
      "614/614 [==============================] - 0s 296us/step - loss: 0.4095 - accuracy: 0.7980\n",
      "Epoch 57/150\n",
      "614/614 [==============================] - 0s 300us/step - loss: 0.4093 - accuracy: 0.7997\n",
      "Epoch 58/150\n",
      "614/614 [==============================] - 0s 201us/step - loss: 0.4091 - accuracy: 0.7964\n",
      "Epoch 59/150\n",
      "614/614 [==============================] - 0s 213us/step - loss: 0.4087 - accuracy: 0.8029\n",
      "Epoch 60/150\n",
      "614/614 [==============================] - 0s 209us/step - loss: 0.4084 - accuracy: 0.8029\n",
      "Epoch 61/150\n",
      "614/614 [==============================] - 0s 220us/step - loss: 0.4076 - accuracy: 0.8013\n",
      "Epoch 62/150\n",
      "614/614 [==============================] - 0s 214us/step - loss: 0.4078 - accuracy: 0.8029\n",
      "Epoch 63/150\n",
      "614/614 [==============================] - 0s 224us/step - loss: 0.4075 - accuracy: 0.7997\n",
      "Epoch 64/150\n",
      "614/614 [==============================] - 0s 210us/step - loss: 0.4068 - accuracy: 0.8029\n",
      "Epoch 65/150\n",
      "614/614 [==============================] - 0s 224us/step - loss: 0.4067 - accuracy: 0.8013\n",
      "Epoch 66/150\n",
      "614/614 [==============================] - 0s 217us/step - loss: 0.4065 - accuracy: 0.8029\n",
      "Epoch 67/150\n",
      "614/614 [==============================] - 0s 220us/step - loss: 0.4064 - accuracy: 0.8062\n",
      "Epoch 68/150\n",
      "614/614 [==============================] - 0s 233us/step - loss: 0.4063 - accuracy: 0.8062\n",
      "Epoch 69/150\n",
      "614/614 [==============================] - 0s 208us/step - loss: 0.4056 - accuracy: 0.8029\n",
      "Epoch 70/150\n",
      "614/614 [==============================] - 0s 225us/step - loss: 0.4055 - accuracy: 0.8062\n",
      "Epoch 71/150\n",
      "614/614 [==============================] - 0s 220us/step - loss: 0.4053 - accuracy: 0.8029\n",
      "Epoch 72/150\n",
      "614/614 [==============================] - 0s 173us/step - loss: 0.4050 - accuracy: 0.8078\n",
      "Epoch 73/150\n",
      "614/614 [==============================] - 0s 149us/step - loss: 0.4042 - accuracy: 0.8046\n",
      "Epoch 74/150\n",
      "614/614 [==============================] - 0s 153us/step - loss: 0.4040 - accuracy: 0.8046\n",
      "Epoch 75/150\n",
      "614/614 [==============================] - 0s 140us/step - loss: 0.4040 - accuracy: 0.8046\n",
      "Epoch 76/150\n",
      "614/614 [==============================] - 0s 174us/step - loss: 0.4036 - accuracy: 0.8046\n",
      "Epoch 77/150\n",
      "614/614 [==============================] - 0s 157us/step - loss: 0.4036 - accuracy: 0.8062\n",
      "Epoch 78/150\n",
      "614/614 [==============================] - 0s 155us/step - loss: 0.4034 - accuracy: 0.8046\n",
      "Epoch 79/150\n",
      "614/614 [==============================] - 0s 191us/step - loss: 0.4031 - accuracy: 0.8062\n",
      "Epoch 80/150\n",
      "614/614 [==============================] - 0s 257us/step - loss: 0.4029 - accuracy: 0.8078\n",
      "Epoch 81/150\n",
      "614/614 [==============================] - 0s 255us/step - loss: 0.4029 - accuracy: 0.8046\n",
      "Epoch 82/150\n",
      "614/614 [==============================] - 0s 148us/step - loss: 0.4032 - accuracy: 0.8062\n",
      "Epoch 83/150\n",
      "614/614 [==============================] - 0s 145us/step - loss: 0.4028 - accuracy: 0.8078\n",
      "Epoch 84/150\n",
      "614/614 [==============================] - 0s 138us/step - loss: 0.4028 - accuracy: 0.8062\n",
      "Epoch 85/150\n",
      "614/614 [==============================] - 0s 135us/step - loss: 0.4028 - accuracy: 0.8029\n",
      "Epoch 86/150\n",
      "614/614 [==============================] - 0s 133us/step - loss: 0.4020 - accuracy: 0.8062\n",
      "Epoch 87/150\n",
      "614/614 [==============================] - 0s 131us/step - loss: 0.4020 - accuracy: 0.8046\n",
      "Epoch 88/150\n",
      "614/614 [==============================] - 0s 132us/step - loss: 0.4016 - accuracy: 0.8046\n",
      "Epoch 89/150\n",
      "614/614 [==============================] - 0s 130us/step - loss: 0.4020 - accuracy: 0.8062\n",
      "Epoch 90/150\n",
      "614/614 [==============================] - 0s 134us/step - loss: 0.4014 - accuracy: 0.8046\n",
      "Epoch 91/150\n",
      "614/614 [==============================] - 0s 139us/step - loss: 0.4012 - accuracy: 0.8029\n",
      "Epoch 92/150\n",
      "614/614 [==============================] - 0s 146us/step - loss: 0.4007 - accuracy: 0.8062\n",
      "Epoch 93/150\n",
      "614/614 [==============================] - 0s 138us/step - loss: 0.4006 - accuracy: 0.8046\n",
      "Epoch 94/150\n",
      "614/614 [==============================] - 0s 137us/step - loss: 0.4008 - accuracy: 0.8046\n",
      "Epoch 95/150\n",
      "614/614 [==============================] - 0s 142us/step - loss: 0.4003 - accuracy: 0.8046\n",
      "Epoch 96/150\n",
      "614/614 [==============================] - 0s 127us/step - loss: 0.4003 - accuracy: 0.8029\n",
      "Epoch 97/150\n",
      "614/614 [==============================] - 0s 133us/step - loss: 0.4007 - accuracy: 0.8094\n",
      "Epoch 98/150\n",
      "614/614 [==============================] - 0s 138us/step - loss: 0.4001 - accuracy: 0.8078\n",
      "Epoch 99/150\n",
      "614/614 [==============================] - 0s 204us/step - loss: 0.3998 - accuracy: 0.8078\n",
      "Epoch 100/150\n",
      "614/614 [==============================] - 0s 177us/step - loss: 0.3997 - accuracy: 0.8062\n",
      "Epoch 101/150\n",
      "614/614 [==============================] - 0s 185us/step - loss: 0.3996 - accuracy: 0.8078\n",
      "Epoch 102/150\n",
      "614/614 [==============================] - 0s 131us/step - loss: 0.3996 - accuracy: 0.8062\n",
      "Epoch 103/150\n",
      "614/614 [==============================] - 0s 136us/step - loss: 0.3998 - accuracy: 0.8111\n",
      "Epoch 104/150\n",
      "614/614 [==============================] - 0s 134us/step - loss: 0.3989 - accuracy: 0.8078\n",
      "Epoch 105/150\n",
      "614/614 [==============================] - 0s 179us/step - loss: 0.3988 - accuracy: 0.8078\n",
      "Epoch 106/150\n",
      "614/614 [==============================] - 0s 181us/step - loss: 0.3988 - accuracy: 0.8062\n",
      "Epoch 107/150\n",
      "614/614 [==============================] - 0s 179us/step - loss: 0.3990 - accuracy: 0.8062\n",
      "Epoch 108/150\n",
      "614/614 [==============================] - 0s 140us/step - loss: 0.3984 - accuracy: 0.8094\n",
      "Epoch 109/150\n",
      "614/614 [==============================] - 0s 169us/step - loss: 0.3985 - accuracy: 0.8062\n",
      "Epoch 110/150\n",
      "614/614 [==============================] - 0s 167us/step - loss: 0.3989 - accuracy: 0.8111\n",
      "Epoch 111/150\n",
      "614/614 [==============================] - 0s 137us/step - loss: 0.3996 - accuracy: 0.8094\n",
      "Epoch 112/150\n",
      "614/614 [==============================] - 0s 170us/step - loss: 0.3982 - accuracy: 0.8078\n",
      "Epoch 113/150\n",
      "614/614 [==============================] - 0s 135us/step - loss: 0.3983 - accuracy: 0.8111\n",
      "Epoch 114/150\n",
      "614/614 [==============================] - 0s 196us/step - loss: 0.3982 - accuracy: 0.8062\n",
      "Epoch 115/150\n",
      "614/614 [==============================] - 0s 165us/step - loss: 0.3980 - accuracy: 0.8046\n",
      "Epoch 116/150\n",
      "614/614 [==============================] - 0s 286us/step - loss: 0.3977 - accuracy: 0.8111\n",
      "Epoch 117/150\n",
      "614/614 [==============================] - 0s 283us/step - loss: 0.3979 - accuracy: 0.8094\n",
      "Epoch 118/150\n",
      "614/614 [==============================] - 0s 181us/step - loss: 0.3972 - accuracy: 0.8143\n",
      "Epoch 119/150\n",
      "614/614 [==============================] - 0s 156us/step - loss: 0.3975 - accuracy: 0.8111\n",
      "Epoch 120/150\n",
      "614/614 [==============================] - 0s 169us/step - loss: 0.3974 - accuracy: 0.8127\n",
      "Epoch 121/150\n",
      "614/614 [==============================] - 0s 161us/step - loss: 0.3969 - accuracy: 0.8127\n",
      "Epoch 122/150\n",
      "614/614 [==============================] - 0s 169us/step - loss: 0.3966 - accuracy: 0.8111\n",
      "Epoch 123/150\n",
      "614/614 [==============================] - 0s 200us/step - loss: 0.3967 - accuracy: 0.8094\n",
      "Epoch 124/150\n",
      "614/614 [==============================] - 0s 155us/step - loss: 0.3967 - accuracy: 0.8127\n",
      "Epoch 125/150\n",
      "614/614 [==============================] - 0s 185us/step - loss: 0.3968 - accuracy: 0.8111\n",
      "Epoch 126/150\n",
      "614/614 [==============================] - 0s 183us/step - loss: 0.3963 - accuracy: 0.8111\n",
      "Epoch 127/150\n",
      "614/614 [==============================] - 0s 159us/step - loss: 0.3966 - accuracy: 0.8111\n",
      "Epoch 128/150\n",
      "614/614 [==============================] - 0s 207us/step - loss: 0.3959 - accuracy: 0.8127\n",
      "Epoch 129/150\n",
      "614/614 [==============================] - 0s 176us/step - loss: 0.3961 - accuracy: 0.8094\n",
      "Epoch 130/150\n",
      "614/614 [==============================] - 0s 185us/step - loss: 0.3957 - accuracy: 0.8127\n",
      "Epoch 131/150\n",
      "614/614 [==============================] - 0s 176us/step - loss: 0.3959 - accuracy: 0.8111\n",
      "Epoch 132/150\n",
      "614/614 [==============================] - 0s 165us/step - loss: 0.3954 - accuracy: 0.8111\n",
      "Epoch 133/150\n",
      "614/614 [==============================] - 0s 166us/step - loss: 0.3956 - accuracy: 0.8127\n",
      "Epoch 134/150\n",
      "614/614 [==============================] - 0s 180us/step - loss: 0.3956 - accuracy: 0.8078\n",
      "Epoch 135/150\n",
      "614/614 [==============================] - 0s 165us/step - loss: 0.3956 - accuracy: 0.8143\n",
      "Epoch 136/150\n",
      "614/614 [==============================] - 0s 159us/step - loss: 0.3956 - accuracy: 0.8062\n",
      "Epoch 137/150\n",
      "614/614 [==============================] - 0s 169us/step - loss: 0.3948 - accuracy: 0.8127\n",
      "Epoch 138/150\n",
      "614/614 [==============================] - 0s 170us/step - loss: 0.3954 - accuracy: 0.8127\n",
      "Epoch 139/150\n",
      "614/614 [==============================] - 0s 266us/step - loss: 0.3959 - accuracy: 0.8094\n",
      "Epoch 140/150\n",
      "614/614 [==============================] - 0s 294us/step - loss: 0.3946 - accuracy: 0.8143\n",
      "Epoch 141/150\n",
      "614/614 [==============================] - 0s 220us/step - loss: 0.3944 - accuracy: 0.8127\n",
      "Epoch 142/150\n",
      "614/614 [==============================] - 0s 168us/step - loss: 0.3948 - accuracy: 0.8127\n",
      "Epoch 143/150\n",
      "614/614 [==============================] - 0s 174us/step - loss: 0.3949 - accuracy: 0.8111\n",
      "Epoch 144/150\n",
      "614/614 [==============================] - 0s 155us/step - loss: 0.3943 - accuracy: 0.8111\n",
      "Epoch 145/150\n",
      "614/614 [==============================] - 0s 181us/step - loss: 0.3943 - accuracy: 0.8078\n",
      "Epoch 146/150\n",
      "614/614 [==============================] - 0s 181us/step - loss: 0.3948 - accuracy: 0.8127\n",
      "Epoch 147/150\n",
      "614/614 [==============================] - 0s 191us/step - loss: 0.3940 - accuracy: 0.8127\n",
      "Epoch 148/150\n",
      "614/614 [==============================] - 0s 183us/step - loss: 0.3941 - accuracy: 0.8111\n",
      "Epoch 149/150\n",
      "614/614 [==============================] - 0s 173us/step - loss: 0.3938 - accuracy: 0.8143\n",
      "Epoch 150/150\n",
      "614/614 [==============================] - 0s 183us/step - loss: 0.3939 - accuracy: 0.8127\n"
     ]
    },
    {
     "data": {
      "text/plain": [
       "<keras.callbacks.callbacks.History at 0x155e690af08>"
      ]
     },
     "execution_count": 44,
     "metadata": {},
     "output_type": "execute_result"
    }
   ],
   "source": [
    "#fit keras model\n",
    "model.fit(X_train,Y_train,epochs=150,batch_size=10)"
   ]
  },
  {
   "cell_type": "code",
   "execution_count": 45,
   "metadata": {},
   "outputs": [
    {
     "data": {
      "text/plain": [
       "array([[1.25986319e-02],\n",
       "       [4.57071632e-01],\n",
       "       [1.81395039e-01],\n",
       "       [3.57771933e-04],\n",
       "       [7.78704882e-02],\n",
       "       [5.76544832e-03],\n",
       "       [1.56398639e-01],\n",
       "       [1.70190297e-02],\n",
       "       [4.35736567e-01],\n",
       "       [4.85969424e-01],\n",
       "       [7.58798718e-01],\n",
       "       [5.11833318e-02],\n",
       "       [7.52782643e-01],\n",
       "       [2.48593897e-01],\n",
       "       [8.59115243e-01],\n",
       "       [2.06108596e-02],\n",
       "       [8.05945694e-02],\n",
       "       [3.99444371e-01],\n",
       "       [4.74362224e-02],\n",
       "       [2.40966137e-02],\n",
       "       [4.95454520e-02],\n",
       "       [1.03050828e-01],\n",
       "       [5.59611738e-01],\n",
       "       [9.30459797e-01],\n",
       "       [6.05330765e-02],\n",
       "       [1.97150096e-01],\n",
       "       [1.07508533e-01],\n",
       "       [9.64854881e-02],\n",
       "       [3.02290410e-01],\n",
       "       [6.58083260e-01],\n",
       "       [6.14801824e-01],\n",
       "       [8.30952108e-01],\n",
       "       [9.08150434e-01],\n",
       "       [3.14401761e-02],\n",
       "       [1.95666123e-02],\n",
       "       [7.96990275e-01],\n",
       "       [7.44662106e-01],\n",
       "       [1.88313797e-02],\n",
       "       [5.59611738e-01],\n",
       "       [1.12623665e-02],\n",
       "       [1.78637478e-04],\n",
       "       [9.31376358e-04],\n",
       "       [8.19777906e-01],\n",
       "       [6.45985723e-01],\n",
       "       [1.66357279e-01],\n",
       "       [8.92978489e-01],\n",
       "       [1.17846847e-01],\n",
       "       [4.52920273e-02],\n",
       "       [6.96499586e-01],\n",
       "       [1.98602125e-01],\n",
       "       [3.06197815e-02],\n",
       "       [6.09092833e-03],\n",
       "       [1.09268045e-02],\n",
       "       [3.77062075e-02],\n",
       "       [2.43699532e-02],\n",
       "       [1.60576329e-01],\n",
       "       [5.65018833e-01],\n",
       "       [1.80868536e-01],\n",
       "       [8.65406632e-01],\n",
       "       [7.05777435e-03],\n",
       "       [1.29341081e-01],\n",
       "       [3.57862532e-01],\n",
       "       [5.07104218e-01],\n",
       "       [8.03561866e-01],\n",
       "       [3.09875049e-02],\n",
       "       [4.79835132e-03],\n",
       "       [7.33185967e-04],\n",
       "       [7.81319022e-01],\n",
       "       [4.24716175e-01],\n",
       "       [4.91369545e-01],\n",
       "       [7.68580675e-01],\n",
       "       [6.32021844e-01],\n",
       "       [9.65040326e-01],\n",
       "       [3.99440229e-01],\n",
       "       [5.96267655e-02],\n",
       "       [7.50624120e-01],\n",
       "       [9.19645905e-01],\n",
       "       [4.51918453e-01],\n",
       "       [8.70367944e-01],\n",
       "       [1.35292839e-02],\n",
       "       [4.81049567e-01],\n",
       "       [2.17177019e-01],\n",
       "       [9.40047503e-01],\n",
       "       [3.15934569e-01],\n",
       "       [1.76110286e-02],\n",
       "       [4.53630716e-01],\n",
       "       [6.29689515e-01],\n",
       "       [4.82515851e-03],\n",
       "       [3.76663089e-01],\n",
       "       [9.46908295e-02],\n",
       "       [7.71973908e-01],\n",
       "       [7.47685075e-01],\n",
       "       [1.79961652e-01],\n",
       "       [6.84317872e-02],\n",
       "       [7.45546162e-01],\n",
       "       [6.00974202e-01],\n",
       "       [6.89454854e-01],\n",
       "       [2.43197739e-01],\n",
       "       [7.03615323e-02],\n",
       "       [2.97703873e-03],\n",
       "       [8.20258781e-02],\n",
       "       [6.94963261e-02],\n",
       "       [1.34203613e-01],\n",
       "       [4.92043763e-01],\n",
       "       [5.59611738e-01],\n",
       "       [4.21642005e-01],\n",
       "       [1.74491987e-01],\n",
       "       [7.16985855e-03],\n",
       "       [3.27465981e-01],\n",
       "       [6.44427761e-02],\n",
       "       [7.93685853e-01],\n",
       "       [6.99165404e-01],\n",
       "       [6.30040467e-01],\n",
       "       [5.07226156e-04],\n",
       "       [2.78988004e-01],\n",
       "       [6.31167516e-02],\n",
       "       [6.80288553e-01],\n",
       "       [5.61856151e-01],\n",
       "       [5.70723176e-01],\n",
       "       [6.92996830e-02],\n",
       "       [1.81585699e-01],\n",
       "       [6.81121230e-01],\n",
       "       [6.30660739e-04],\n",
       "       [7.13256717e-01],\n",
       "       [5.11779264e-02],\n",
       "       [1.40092060e-01],\n",
       "       [4.75016050e-02],\n",
       "       [2.65425071e-03],\n",
       "       [3.30643146e-04],\n",
       "       [7.73413062e-01],\n",
       "       [2.48272549e-02],\n",
       "       [5.61162177e-03],\n",
       "       [2.61683941e-01],\n",
       "       [1.02577478e-01],\n",
       "       [3.46841007e-01],\n",
       "       [5.89583099e-01],\n",
       "       [5.99945430e-03],\n",
       "       [6.27125949e-02],\n",
       "       [8.25247616e-02],\n",
       "       [2.85259455e-01],\n",
       "       [1.64679438e-02],\n",
       "       [6.39327109e-01],\n",
       "       [1.24771968e-02],\n",
       "       [1.86531022e-01],\n",
       "       [2.64958888e-01],\n",
       "       [5.27910233e-01],\n",
       "       [5.18287897e-01],\n",
       "       [5.94211137e-03],\n",
       "       [1.25926435e-01],\n",
       "       [2.92046428e-01],\n",
       "       [5.09911060e-01],\n",
       "       [7.17522562e-01],\n",
       "       [7.69735396e-01],\n",
       "       [3.05381324e-03]], dtype=float32)"
      ]
     },
     "execution_count": 45,
     "metadata": {},
     "output_type": "execute_result"
    }
   ],
   "source": [
    "#predict for X_test\n",
    "Y_pred=model.predict(X_test)\n",
    "Y_pred"
   ]
  },
  {
   "cell_type": "code",
   "execution_count": 48,
   "metadata": {},
   "outputs": [
    {
     "data": {
      "text/plain": [
       "array([0, 0, 0, 0, 0, 0, 0, 0, 0, 1, 1, 0, 1, 0, 1, 0, 0, 0, 0, 0, 0, 0,\n",
       "       1, 1, 0, 0, 1, 0, 0, 1, 0, 1, 1, 0, 0, 1, 0, 0, 0, 0, 0, 0, 1, 0,\n",
       "       1, 1, 1, 1, 0, 1, 0, 0, 0, 0, 0, 0, 1, 0, 1, 0, 0, 0, 0, 1, 1, 0,\n",
       "       0, 0, 1, 1, 0, 0, 0, 0, 0, 1, 1, 0, 0, 0, 1, 0, 1, 1, 0, 0, 0, 0,\n",
       "       1, 0, 1, 0, 1, 0, 0, 1, 1, 1, 0, 0, 0, 1, 1, 1, 0, 0, 1, 0, 0, 0,\n",
       "       0, 1, 0, 0, 1, 0, 1, 0, 1, 1, 0, 1, 0, 1, 1, 0, 0, 0, 0, 1, 0, 1,\n",
       "       0, 0, 0, 1, 0, 0, 0, 1, 0, 1, 0, 0, 0, 0, 1, 0, 0, 0, 1, 0, 1, 0],\n",
       "      dtype=int64)"
      ]
     },
     "execution_count": 48,
     "metadata": {},
     "output_type": "execute_result"
    }
   ],
   "source": [
    "Y_test.values"
   ]
  },
  {
   "cell_type": "code",
   "execution_count": 50,
   "metadata": {},
   "outputs": [
    {
     "data": {
      "text/plain": [
       "array([[False],\n",
       "       [False],\n",
       "       [False],\n",
       "       [False],\n",
       "       [False],\n",
       "       [False],\n",
       "       [False],\n",
       "       [False],\n",
       "       [False],\n",
       "       [False],\n",
       "       [ True],\n",
       "       [False],\n",
       "       [ True],\n",
       "       [False],\n",
       "       [ True],\n",
       "       [False],\n",
       "       [False],\n",
       "       [False],\n",
       "       [False],\n",
       "       [False],\n",
       "       [False],\n",
       "       [False],\n",
       "       [ True],\n",
       "       [ True],\n",
       "       [False],\n",
       "       [False],\n",
       "       [False],\n",
       "       [False],\n",
       "       [False],\n",
       "       [ True],\n",
       "       [ True],\n",
       "       [ True],\n",
       "       [ True],\n",
       "       [False],\n",
       "       [False],\n",
       "       [ True],\n",
       "       [ True],\n",
       "       [False],\n",
       "       [ True],\n",
       "       [False],\n",
       "       [False],\n",
       "       [False],\n",
       "       [ True],\n",
       "       [ True],\n",
       "       [False],\n",
       "       [ True],\n",
       "       [False],\n",
       "       [False],\n",
       "       [ True],\n",
       "       [False],\n",
       "       [False],\n",
       "       [False],\n",
       "       [False],\n",
       "       [False],\n",
       "       [False],\n",
       "       [False],\n",
       "       [ True],\n",
       "       [False],\n",
       "       [ True],\n",
       "       [False],\n",
       "       [False],\n",
       "       [False],\n",
       "       [ True],\n",
       "       [ True],\n",
       "       [False],\n",
       "       [False],\n",
       "       [False],\n",
       "       [ True],\n",
       "       [False],\n",
       "       [False],\n",
       "       [ True],\n",
       "       [ True],\n",
       "       [ True],\n",
       "       [False],\n",
       "       [False],\n",
       "       [ True],\n",
       "       [ True],\n",
       "       [False],\n",
       "       [ True],\n",
       "       [False],\n",
       "       [False],\n",
       "       [False],\n",
       "       [ True],\n",
       "       [False],\n",
       "       [False],\n",
       "       [False],\n",
       "       [ True],\n",
       "       [False],\n",
       "       [False],\n",
       "       [False],\n",
       "       [ True],\n",
       "       [ True],\n",
       "       [False],\n",
       "       [False],\n",
       "       [ True],\n",
       "       [ True],\n",
       "       [ True],\n",
       "       [False],\n",
       "       [False],\n",
       "       [False],\n",
       "       [False],\n",
       "       [False],\n",
       "       [False],\n",
       "       [False],\n",
       "       [ True],\n",
       "       [False],\n",
       "       [False],\n",
       "       [False],\n",
       "       [False],\n",
       "       [False],\n",
       "       [ True],\n",
       "       [ True],\n",
       "       [ True],\n",
       "       [False],\n",
       "       [False],\n",
       "       [False],\n",
       "       [ True],\n",
       "       [ True],\n",
       "       [ True],\n",
       "       [False],\n",
       "       [False],\n",
       "       [ True],\n",
       "       [False],\n",
       "       [ True],\n",
       "       [False],\n",
       "       [False],\n",
       "       [False],\n",
       "       [False],\n",
       "       [False],\n",
       "       [ True],\n",
       "       [False],\n",
       "       [False],\n",
       "       [False],\n",
       "       [False],\n",
       "       [False],\n",
       "       [ True],\n",
       "       [False],\n",
       "       [False],\n",
       "       [False],\n",
       "       [False],\n",
       "       [False],\n",
       "       [ True],\n",
       "       [False],\n",
       "       [False],\n",
       "       [False],\n",
       "       [ True],\n",
       "       [ True],\n",
       "       [False],\n",
       "       [False],\n",
       "       [False],\n",
       "       [ True],\n",
       "       [ True],\n",
       "       [ True],\n",
       "       [False]])"
      ]
     },
     "execution_count": 50,
     "metadata": {},
     "output_type": "execute_result"
    }
   ],
   "source": [
    "Y_pred=Y_pred>0.5\n",
    "Y_pred"
   ]
  },
  {
   "cell_type": "code",
   "execution_count": 51,
   "metadata": {},
   "outputs": [
    {
     "data": {
      "text/plain": [
       "array([[0],\n",
       "       [0],\n",
       "       [0],\n",
       "       [0],\n",
       "       [0],\n",
       "       [0],\n",
       "       [0],\n",
       "       [0],\n",
       "       [0],\n",
       "       [0],\n",
       "       [1],\n",
       "       [0],\n",
       "       [1],\n",
       "       [0],\n",
       "       [1],\n",
       "       [0],\n",
       "       [0],\n",
       "       [0],\n",
       "       [0],\n",
       "       [0],\n",
       "       [0],\n",
       "       [0],\n",
       "       [1],\n",
       "       [1],\n",
       "       [0],\n",
       "       [0],\n",
       "       [0],\n",
       "       [0],\n",
       "       [0],\n",
       "       [1],\n",
       "       [1],\n",
       "       [1],\n",
       "       [1],\n",
       "       [0],\n",
       "       [0],\n",
       "       [1],\n",
       "       [1],\n",
       "       [0],\n",
       "       [1],\n",
       "       [0],\n",
       "       [0],\n",
       "       [0],\n",
       "       [1],\n",
       "       [1],\n",
       "       [0],\n",
       "       [1],\n",
       "       [0],\n",
       "       [0],\n",
       "       [1],\n",
       "       [0],\n",
       "       [0],\n",
       "       [0],\n",
       "       [0],\n",
       "       [0],\n",
       "       [0],\n",
       "       [0],\n",
       "       [1],\n",
       "       [0],\n",
       "       [1],\n",
       "       [0],\n",
       "       [0],\n",
       "       [0],\n",
       "       [1],\n",
       "       [1],\n",
       "       [0],\n",
       "       [0],\n",
       "       [0],\n",
       "       [1],\n",
       "       [0],\n",
       "       [0],\n",
       "       [1],\n",
       "       [1],\n",
       "       [1],\n",
       "       [0],\n",
       "       [0],\n",
       "       [1],\n",
       "       [1],\n",
       "       [0],\n",
       "       [1],\n",
       "       [0],\n",
       "       [0],\n",
       "       [0],\n",
       "       [1],\n",
       "       [0],\n",
       "       [0],\n",
       "       [0],\n",
       "       [1],\n",
       "       [0],\n",
       "       [0],\n",
       "       [0],\n",
       "       [1],\n",
       "       [1],\n",
       "       [0],\n",
       "       [0],\n",
       "       [1],\n",
       "       [1],\n",
       "       [1],\n",
       "       [0],\n",
       "       [0],\n",
       "       [0],\n",
       "       [0],\n",
       "       [0],\n",
       "       [0],\n",
       "       [0],\n",
       "       [1],\n",
       "       [0],\n",
       "       [0],\n",
       "       [0],\n",
       "       [0],\n",
       "       [0],\n",
       "       [1],\n",
       "       [1],\n",
       "       [1],\n",
       "       [0],\n",
       "       [0],\n",
       "       [0],\n",
       "       [1],\n",
       "       [1],\n",
       "       [1],\n",
       "       [0],\n",
       "       [0],\n",
       "       [1],\n",
       "       [0],\n",
       "       [1],\n",
       "       [0],\n",
       "       [0],\n",
       "       [0],\n",
       "       [0],\n",
       "       [0],\n",
       "       [1],\n",
       "       [0],\n",
       "       [0],\n",
       "       [0],\n",
       "       [0],\n",
       "       [0],\n",
       "       [1],\n",
       "       [0],\n",
       "       [0],\n",
       "       [0],\n",
       "       [0],\n",
       "       [0],\n",
       "       [1],\n",
       "       [0],\n",
       "       [0],\n",
       "       [0],\n",
       "       [1],\n",
       "       [1],\n",
       "       [0],\n",
       "       [0],\n",
       "       [0],\n",
       "       [1],\n",
       "       [1],\n",
       "       [1],\n",
       "       [0]])"
      ]
     },
     "execution_count": 51,
     "metadata": {},
     "output_type": "execute_result"
    }
   ],
   "source": [
    "Y_pred=model.predict_classes(X_test)\n",
    "Y_pred"
   ]
  },
  {
   "cell_type": "code",
   "execution_count": 57,
   "metadata": {},
   "outputs": [
    {
     "name": "stdout",
     "output_type": "stream",
     "text": [
      "accuracy of this model is 72.08\n"
     ]
    }
   ],
   "source": [
    "#find accuracy\n",
    "from sklearn.metrics import accuracy_score\n",
    "acc=accuracy_score(Y_test,Y_pred)\n",
    "acc=round(acc*100,2)\n",
    "print(\"accuracy of this model is\",acc)"
   ]
  },
  {
   "cell_type": "code",
   "execution_count": 60,
   "metadata": {},
   "outputs": [
    {
     "name": "stdout",
     "output_type": "stream",
     "text": [
      "154/154 [==============================] - 0s 495us/step\n",
      "0.7207792401313782\n"
     ]
    }
   ],
   "source": [
    "#or evaluate the keras model\n",
    "#evaluate() RETURNS 2 values loss and accuracy\n",
    "__,acc=model.evaluate(X_test,Y_test)\n",
    "print(acc)"
   ]
  },
  {
   "cell_type": "code",
   "execution_count": 62,
   "metadata": {},
   "outputs": [
    {
     "data": {
      "text/plain": [
       "array([[ 8.00000000e+00,  4.80000000e+01,  7.20000000e+01,\n",
       "         4.50000000e+01, -1.85037171e-17,  3.50000000e+01,\n",
       "        -1.38777878e-17,  6.50000000e+01]])"
      ]
     },
     "execution_count": 62,
     "metadata": {},
     "output_type": "execute_result"
    }
   ],
   "source": [
    "#noe predict for an unknown person\n",
    "import numpy as np\n",
    "data=np.array([[8,48,72,45,0,35,0,65]])\n",
    "X1=sc.transform(data)\n",
    "X1"
   ]
  },
  {
   "cell_type": "code",
   "execution_count": 63,
   "metadata": {},
   "outputs": [
    {
     "data": {
      "text/plain": [
       "array([[0.55961174]], dtype=float32)"
      ]
     },
     "execution_count": 63,
     "metadata": {},
     "output_type": "execute_result"
    }
   ],
   "source": [
    "model.predict(X1)"
   ]
  },
  {
   "cell_type": "code",
   "execution_count": 64,
   "metadata": {},
   "outputs": [
    {
     "data": {
      "text/plain": [
       "array([[1]])"
      ]
     },
     "execution_count": 64,
     "metadata": {},
     "output_type": "execute_result"
    }
   ],
   "source": [
    "model.predict_classes(X1)"
   ]
  },
  {
   "cell_type": "code",
   "execution_count": null,
   "metadata": {},
   "outputs": [],
   "source": [
    "#this is expalin about deep learning using an exapmle of diabetic prediction"
   ]
  }
 ],
 "metadata": {
  "kernelspec": {
   "display_name": "Python 3",
   "language": "python",
   "name": "python3"
  },
  "language_info": {
   "codemirror_mode": {
    "name": "ipython",
    "version": 3
   },
   "file_extension": ".py",
   "mimetype": "text/x-python",
   "name": "python",
   "nbconvert_exporter": "python",
   "pygments_lexer": "ipython3",
   "version": "3.7.4"
  }
 },
 "nbformat": 4,
 "nbformat_minor": 2
}
